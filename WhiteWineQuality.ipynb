{
  "nbformat": 4,
  "nbformat_minor": 0,
  "metadata": {
    "colab": {
      "provenance": []
    },
    "kernelspec": {
      "name": "python3",
      "display_name": "Python 3"
    },
    "language_info": {
      "name": "python"
    }
  },
  "cells": [
    {
      "cell_type": "code",
      "execution_count": 63,
      "metadata": {
        "id": "8VROYaNrIA2b"
      },
      "outputs": [],
      "source": [
        "  import pandas as pd"
      ]
    },
    {
      "cell_type": "code",
      "source": [
        "\n",
        "w=pd.read_csv(\"https://github.com/YBIFoundation/Dataset/raw/main/WhiteWineQuality.csv\" , delimiter=';')"
      ],
      "metadata": {
        "id": "CAX8_srKldJK"
      },
      "execution_count": 64,
      "outputs": []
    },
    {
      "cell_type": "code",
      "source": [
        " w.head()"
      ],
      "metadata": {
        "id": "OauEI2RsIg08"
      },
      "execution_count": null,
      "outputs": []
    },
    {
      "cell_type": "code",
      "source": [
        "w.tail()"
      ],
      "metadata": {
        "id": "mQxX5DawIusO"
      },
      "execution_count": null,
      "outputs": []
    },
    {
      "cell_type": "code",
      "source": [
        "w.describe"
      ],
      "metadata": {
        "id": "50zCUU5cIy3b"
      },
      "execution_count": null,
      "outputs": []
    },
    {
      "cell_type": "code",
      "source": [
        "w.info()"
      ],
      "metadata": {
        "id": "RRnC-Z1gJP1k"
      },
      "execution_count": null,
      "outputs": []
    },
    {
      "cell_type": "code",
      "source": [
        "w.shape,X.shape,y.shape"
      ],
      "metadata": {
        "id": "IwG5nmKlKGP2"
      },
      "execution_count": null,
      "outputs": []
    },
    {
      "cell_type": "code",
      "source": [
        "w.columns"
      ],
      "metadata": {
        "id": "yyCLF1yBI2SW"
      },
      "execution_count": null,
      "outputs": []
    },
    {
      "cell_type": "code",
      "source": [
        "y=w['quality']\n",
        "X=w[['fixed acidity', 'volatile acidity', 'citric acid', 'residual sugar',\n",
        "       'chlorides', 'free sulfur dioxide', 'total sulfur dioxide', 'density',\n",
        "       'pH', 'sulphates', 'alcohol']]"
      ],
      "metadata": {
        "id": "yGGKW_8xoNt-"
      },
      "execution_count": 71,
      "outputs": []
    },
    {
      "cell_type": "code",
      "source": [
        "# step 4: split data\n",
        "from sklearn.model_selection import train_test_split\n",
        "X_train,X_test,y_train,y_test = train_test_split(X,y,random_state=2529)"
      ],
      "metadata": {
        "id": "1uqaF79F9Dy7"
      },
      "execution_count": 72,
      "outputs": []
    },
    {
      "cell_type": "code",
      "source": [],
      "metadata": {
        "id": "QqvPhxAgNlRc"
      },
      "execution_count": null,
      "outputs": []
    },
    {
      "cell_type": "code",
      "source": [
        "# step 5: select model\n",
        "from sklearn.linear_model import LinearRegression\n",
        "Lr = LinearRegression()"
      ],
      "metadata": {
        "id": "0TiEfO7-Fb0K"
      },
      "execution_count": 73,
      "outputs": []
    },
    {
      "cell_type": "code",
      "source": [
        "#fit model\n",
        "Lr.fit(X_train,y_train)\n",
        ""
      ],
      "metadata": {
        "id": "zaF7GQzMraMb"
      },
      "execution_count": null,
      "outputs": []
    },
    {
      "cell_type": "code",
      "source": [
        "   Lr.coef_"
      ],
      "metadata": {
        "colab": {
          "base_uri": "https://localhost:8080/"
        },
        "id": "12064PbZr5PW",
        "outputId": "21fea69f-6f4c-485e-de85-984793861dcc"
      },
      "execution_count": 75,
      "outputs": [
        {
          "output_type": "execute_result",
          "data": {
            "text/plain": [
              "array([ 4.53344363e-02, -2.00971335e+00,  7.30086739e-03,  7.42852696e-02,\n",
              "        5.37644078e-02,  3.48810153e-03, -9.16711490e-05, -1.31302639e+02,\n",
              "        5.05208295e-01,  6.59632284e-01,  2.21995093e-01])"
            ]
          },
          "metadata": {},
          "execution_count": 75
        }
      ]
    },
    {
      "cell_type": "code",
      "source": [
        "# step 7: prediction\n",
        "y_pred = Lr.predict(X_test)"
      ],
      "metadata": {
        "id": "VloODAFPCxj0"
      },
      "execution_count": 76,
      "outputs": []
    },
    {
      "cell_type": "code",
      "source": [
        " # step 8: evaluate\n",
        "from sklearn.metrics import mean_absolute_percentage_error\n",
        "mean_absolute_percentage_error(y_test,y_pred)"
      ],
      "metadata": {
        "colab": {
          "base_uri": "https://localhost:8080/"
        },
        "id": "_-fg1ze6LlzD",
        "outputId": "8789f3da-9299-416a-b9c2-be8190b14b13"
      },
      "execution_count": 77,
      "outputs": [
        {
          "output_type": "execute_result",
          "data": {
            "text/plain": [
              "0.1016639224135073"
            ]
          },
          "metadata": {},
          "execution_count": 77
        }
      ]
    }
  ]
}